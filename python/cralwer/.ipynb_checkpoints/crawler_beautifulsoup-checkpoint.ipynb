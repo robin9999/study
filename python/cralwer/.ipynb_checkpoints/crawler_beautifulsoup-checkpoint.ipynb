{
 "cells": [
  {
   "cell_type": "code",
   "execution_count": 4,
   "metadata": {},
   "outputs": [
    {
     "name": "stdout",
     "output_type": "stream",
     "text": [
      "<script>\n",
      "location.href='../main.jsp';\n",
      "</script>\n",
      "\n"
     ]
    }
   ],
   "source": [
    "import requests\n",
    "from bs4 import BeautifulSoup as bs\n",
    "\n",
    "MEMBER_DATA ={\n",
    "    'memberID' : 'a',\n",
    "    'memberPassword' : 'a'\n",
    "}\n",
    "\n",
    "#하나의 세션 객체를 만들어 일시적으로 유지\n",
    "\n",
    "with requests.Session() as s:\n",
    "    #로그인 페이지로의 POST 요청(request) 객체를 생성\n",
    "    request = s.post('http://dowellcomputer.com/member/memberLoginAction.jsp', data =MEMBER_DATA)\n",
    "    \n",
    "print(request.text)"
   ]
  },
  {
   "cell_type": "code",
   "execution_count": 5,
   "metadata": {},
   "outputs": [
    {
     "name": "stdout",
     "output_type": "stream",
     "text": [
      "asd@nav.com\n"
     ]
    }
   ],
   "source": [
    "request = s.get('http://dowellcomputer.com/member/memberUpdateForm.jsp?ID=a')\n",
    "soup = bs(request.text, 'html.parser')\n",
    "\n",
    "result = soup.findAll('input', {\"name\":\"memberEmail\"})\n",
    "print(result[0].get('value'))"
   ]
  },
  {
   "cell_type": "code",
   "execution_count": null,
   "metadata": {},
   "outputs": [],
   "source": []
  }
 ],
 "metadata": {
  "kernelspec": {
   "display_name": "Python 3",
   "language": "python",
   "name": "python3"
  },
  "language_info": {
   "codemirror_mode": {
    "name": "ipython",
    "version": 3
   },
   "file_extension": ".py",
   "mimetype": "text/x-python",
   "name": "python",
   "nbconvert_exporter": "python",
   "pygments_lexer": "ipython3",
   "version": "3.7.1"
  }
 },
 "nbformat": 4,
 "nbformat_minor": 2
}
