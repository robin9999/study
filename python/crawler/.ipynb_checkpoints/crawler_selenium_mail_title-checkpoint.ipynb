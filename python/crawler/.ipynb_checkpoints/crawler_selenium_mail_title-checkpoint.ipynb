{
 "cells": [
  {
   "cell_type": "code",
   "execution_count": 32,
   "metadata": {},
   "outputs": [],
   "source": [
    "#crawler\n",
    "#자동화 테스트를 위해 selenium 불러온다\n",
    "from selenium import webdriver\n",
    "from time import sleep\n",
    "\n",
    "#크롬 웹드라이버 경로를 설정\n",
    "driver = webdriver.Chrome('/usr/local/bin/chromedriver')\n",
    "\n",
    "#크롬을 통해 네이버 로그인 화면 접속!\n",
    "driver.get('https://nid.naver.com/nidlogin.login')"
   ]
  },
  {
   "cell_type": "code",
   "execution_count": 33,
   "metadata": {},
   "outputs": [],
   "source": [
    "#아이디와 비번 입력하기(0.5초씩 기다리기)\n",
    "sleep(0.5)\n",
    "driver.find_element_by_name('id').send_keys('아이디')\n",
    "sleep(0.5)\n",
    "driver.find_element_by_name('pw').send_keys('비밀번호')"
   ]
  },
  {
   "cell_type": "code",
   "execution_count": 30,
   "metadata": {},
   "outputs": [],
   "source": [
    "#XPath 를 이용해 로그인을 시도.\n",
    "driver.find_element_by_xpath('//*[@id=\"frmNIDLogin\"]/fieldset/input').click()"
   ]
  },
  {
   "cell_type": "code",
   "execution_count": 31,
   "metadata": {},
   "outputs": [
    {
     "name": "stdout",
     "output_type": "stream",
     "text": [
      "메일 제목:새로운 환경에서 로그인 되었습니다.\n",
      "메일 제목:(광고) 생리대/바세린/샴푸外 ★2,500원~\n",
      "메일 제목:■(꿈)꿈의 직장 계약직 VS (현실)지겨운 현직장 정규직..\n",
      "메일 제목:(광고) [국비지원 무료교육] 국가공인 손해평가사 자격시험 일정 안내\n",
      "메일 제목:(광고) 텅장주의! 많이 살 수록 커지는 할인\n",
      "메일 제목:(광고) 영어 마스터 그랜드 슬래머에 도전하라!\n",
      "메일 제목:■07:43에 11시면접 보러와라, 문제있으면 연락달라는 담당자.. 이런곳은 패스해야겠죠?\n",
      "메일 제목:(광고) 오늘11시 JMW드라이기外 ☆슈퍼특가데이\n",
      "메일 제목:(광고) 라식/라섹 필요하신 분들을 찾습니다~\n",
      "메일 제목:(광고) CJ온마트, 오늘도 수고한 나를 위한 고메치킨세트 27,000원, 최대 60% 할인! \n",
      "메일 제목:(광고) 올해도 잘 먹자! 단돈 100원딜, 경품과 적립금까지! 동원몰에서 스마일페이로 첫 결제 시 5천원 캐시백!\n",
      "메일 제목: (광고) 2019 새해 자기계발! 피너츠 데스크 노트\n",
      "메일 제목:(광고) 겨울니트 30%쿠폰\n",
      "메일 제목:(광고) ★겨울식품+방한패션 15%할인!\n",
      "메일 제목:(광고) 삭스부츠/롱부츠 30%쿠폰\n"
     ]
    }
   ],
   "source": [
    "#웹페이지 소스코드를 파싱하기 위해 BeautifulSoup 라이브러리를 불러온다\n",
    "from bs4 import BeautifulSoup\n",
    "\n",
    "driver.get('https://mail.naver.com/')\n",
    "html = driver.page_source\n",
    "soup = BeautifulSoup(html,'lxml')\n",
    "\n",
    "#메일 제목을 하나씩 파싱.\n",
    "title_list = soup.find_all('strong','mail_title')\n",
    "\n",
    "#모든 메일 제목 출력\n",
    "for title in title_list:\n",
    "    print(title.text)"
   ]
  },
  {
   "cell_type": "code",
   "execution_count": null,
   "metadata": {},
   "outputs": [],
   "source": []
  }
 ],
 "metadata": {
  "kernelspec": {
   "display_name": "Python 3",
   "language": "python",
   "name": "python3"
  },
  "language_info": {
   "codemirror_mode": {
    "name": "ipython",
    "version": 3
   },
   "file_extension": ".py",
   "mimetype": "text/x-python",
   "name": "python",
   "nbconvert_exporter": "python",
   "pygments_lexer": "ipython3",
   "version": "3.7.1"
  }
 },
 "nbformat": 4,
 "nbformat_minor": 2
}
