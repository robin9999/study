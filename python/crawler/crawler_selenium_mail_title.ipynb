{
 "cells": [
  {
   "cell_type": "code",
   "execution_count": 7,
   "metadata": {},
   "outputs": [],
   "source": [
    "#crawler\n",
    "#자동화 테스트를 위해 selenium 불러온다\n",
    "from selenium import webdriver\n",
    "from time import sleep\n",
    "\n",
    "#크롬 웹드라이버 경로를 설정\n",
    "driver = webdriver.Chrome('/usr/local/bin/chromedriver')\n",
    "\n",
    "#크롬을 통해 네이버 로그인 화면 접속!\n",
    "driver.get('https://nid.naver.com/nidlogin.login')"
   ]
  },
  {
   "cell_type": "code",
   "execution_count": 8,
   "metadata": {},
   "outputs": [],
   "source": [
    "#아이디와 비번 입력하기(0.5초씩 기다리기)\n",
    "#driver.implicitly_wait(3)\n",
    "sleep(0.5)\n",
    "driver.find_element_by_name('id').send_keys('아이디')\n",
    "sleep(0.5)\n",
    "driver.find_element_by_name('pw').send_keys('비밀번호')"
   ]
  },
  {
   "cell_type": "code",
   "execution_count": 5,
   "metadata": {},
   "outputs": [],
   "source": [
    "#XPath 를 이용해 로그인을 시도.\n",
    "driver.find_element_by_xpath('//*[@id=\"frmNIDLogin\"]/fieldset/input').click()"
   ]
  },
  {
   "cell_type": "code",
   "execution_count": 6,
   "metadata": {},
   "outputs": [],
   "source": [
    "#웹페이지 소스코드를 파싱하기 위해 BeautifulSoup 라이브러리를 불러온다\n",
    "from bs4 import BeautifulSoup\n",
    "\n",
    "driver.get('https://mail.naver.com/')\n",
    "html = driver.page_source\n",
    "soup = BeautifulSoup(html,'lxml')\n",
    "\n",
    "#메일 제목을 하나씩 파싱.\n",
    "title_list = soup.find_all('strong','mail_title')\n",
    "\n",
    "#모든 메일 제목 출력\n",
    "for title in title_list:\n",
    "    print(title.text)"
   ]
  },
  {
   "cell_type": "code",
   "execution_count": null,
   "metadata": {},
   "outputs": [],
   "source": []
  }
 ],
 "metadata": {
  "kernelspec": {
   "display_name": "Python 3",
   "language": "python",
   "name": "python3"
  },
  "language_info": {
   "codemirror_mode": {
    "name": "ipython",
    "version": 3
   },
   "file_extension": ".py",
   "mimetype": "text/x-python",
   "name": "python",
   "nbconvert_exporter": "python",
   "pygments_lexer": "ipython3",
   "version": "3.7.1"
  }
 },
 "nbformat": 4,
 "nbformat_minor": 2
}
